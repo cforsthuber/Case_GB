{
 "cells": [
  {
   "cell_type": "code",
   "execution_count": 68,
   "metadata": {},
   "outputs": [],
   "source": [
    "# Bibliotecas utilizadas\n",
    "import requests\n",
    "import os\n",
    "import base64\n",
    "from dotenv import load_dotenv\n",
    "import pandas as pd\n",
    "import json\n",
    "from google.cloud import bigquery\n",
    "from google.oauth2 import service_account"
   ]
  },
  {
   "cell_type": "code",
   "execution_count": 69,
   "metadata": {},
   "outputs": [],
   "source": [
    "# Credenciais\n",
    "load_dotenv()\n",
    "client_id = os.getenv(\"CLIENT_ID\")\n",
    "client_secret = os.getenv(\"CLIENT_SECRET\")\n",
    "id_data_hackers = os.getenv(\"ID_DATA_HACKERS\")"
   ]
  },
  {
   "cell_type": "code",
   "execution_count": 70,
   "metadata": {},
   "outputs": [],
   "source": [
    "# Token de autenticação\n",
    "def get_Token():\n",
    "    auth_string = str(base64.b64encode((client_id + \":\" + client_secret).encode(\"utf-8\")), \"utf-8\")\n",
    "\n",
    "    url_login = 'https://accounts.spotify.com/api/token'\n",
    "    headers = {\n",
    "        \"Authorization\": \"Basic \" + auth_string,\n",
    "        \"Content-Type\": \"application/x-www-form-urlencoded\"\n",
    "    }\n",
    "    data = {\"grant_type\": \"client_credentials\"}\n",
    "\n",
    "    return requests.post(url_login, headers = headers, data = data).json()[\"access_token\"]"
   ]
  },
  {
   "cell_type": "code",
   "execution_count": 71,
   "metadata": {},
   "outputs": [
    {
     "name": "stdout",
     "output_type": "stream",
     "text": [
      "BQCjNoS8z9dF71yWhuQ_zx4F9s1hXIJoz9QQNmSvgSKFykNn5nL43uuRHQRscvJs-3gP9PvGUP1fNJFwvYCbt__3zsfgVzHw0_mxlHdOMO9DA-tE-_uf\n"
     ]
    }
   ],
   "source": [
    "# Obter token de autenticação\n",
    "token = get_Token()\n",
    "print(token)"
   ]
  },
  {
   "cell_type": "code",
   "execution_count": 72,
   "metadata": {},
   "outputs": [],
   "source": [
    "# Dados principais tabela 5\n",
    "def getTabela5(termo, tipo, limite):\n",
    "    auth_token = get_Token()\n",
    "    params = {\n",
    "        \"q\": termo,\n",
    "        \"type\": tipo,\n",
    "        \"market\": \"BR\",\n",
    "        \"limit\": limite\n",
    "    }\n",
    "\n",
    "    headers = {\n",
    "        \"Authorization\": f\"Bearer {auth_token}\"\n",
    "    }\n",
    "\n",
    "    return requests.get(\"https://api.spotify.com/v1/search\", params=params, headers=headers)\n"
   ]
  },
  {
   "cell_type": "code",
   "execution_count": null,
   "metadata": {},
   "outputs": [],
   "source": [
    "# Total de episódios\n",
    "def getTotalEpisodes(id):\n",
    "    auth_token = get_Token()\n",
    "    params = {\n",
    "        \"market\": \"BR\"\n",
    "    }\n",
    "    headers = {\n",
    "        \"Authorization\": f\"Bearer {auth_token}\"\n",
    "    }\n",
    "    response = requests.get(f\"https://api.spotify.com/v1/shows/{id}\", params=params, headers=headers)\n",
    "    rs = json.loads(json.dumps(response.json()))\n",
    "    return rs[\"total_episodes\"]"
   ]
  },
  {
   "cell_type": "code",
   "execution_count": 73,
   "metadata": {},
   "outputs": [
    {
     "data": {
      "text/plain": [
       "69"
      ]
     },
     "execution_count": 73,
     "metadata": {},
     "output_type": "execute_result"
    }
   ],
   "source": [
    "# teste\n",
    "getTotalEpisodes('1oMIHOXsrLFENAeM743g93')"
   ]
  },
  {
   "cell_type": "code",
   "execution_count": 74,
   "metadata": {},
   "outputs": [],
   "source": [
    "def tabela5():\n",
    "    rs = getTabela5(\"Data Hackers\", \"episode\", 50).json()\n",
    "    episodes = getTotalEpisodes(id_data_hackers)\n",
    "    items = rs[\"episodes\"][\"items\"]\n",
    "    data = [(item[\"id\"], item[\"name\"], item[\"description\"], episodes) for item in items]\n",
    "    df = pd.DataFrame(data, columns=[\"id\", \"name\", \"description\", \"total_episodes\"])\n",
    "    return df"
   ]
  },
  {
   "cell_type": "code",
   "execution_count": null,
   "metadata": {},
   "outputs": [],
   "source": [
    "#tabela5()"
   ]
  },
  {
   "cell_type": "code",
   "execution_count": 77,
   "metadata": {},
   "outputs": [],
   "source": [
    "# Busca pela lista de episódios\n",
    "# limite entrega no máximo 20 linhas\n",
    "# offset paginação\n",
    "\n",
    "def getShowEpisodes(id, limite, offset):\n",
    "    auth_token = get_Token()\n",
    "    params = {\n",
    "        \"limit\": limite,\n",
    "        \"offset\": offset,\n",
    "        \"market\": \"BR\"\n",
    "    }\n",
    "    headers = {\n",
    "        \"Authorization\": f\"Bearer {auth_token}\"\n",
    "    }\n",
    "    response = requests.get(f\"https://api.spotify.com/v1/shows/{id}/episodes\", params=params, headers=headers)\n",
    "    return json.loads(json.dumps(response.json()))\n"
   ]
  },
  {
   "cell_type": "code",
   "execution_count": 78,
   "metadata": {},
   "outputs": [],
   "source": [
    "def tabela6():\n",
    "    offset = 0\n",
    "    limite = 20\n",
    "    episodios = getTotalEpisodes(id_data_hackers)\n",
    "    data = []\n",
    "\n",
    "    while offset < episodios:\n",
    "        rs = getShowEpisodes(id_data_hackers, limite, offset)\n",
    "        items = rs[\"items\"]\n",
    "        for item in items:\n",
    "            data.append({\n",
    "                \"id\": item[\"id\"],\n",
    "                \"name\": item[\"name\"],\n",
    "                \"description\": item[\"description\"],\n",
    "                \"release_date\": item[\"release_date\"],\n",
    "                \"duration_ms\": item[\"duration_ms\"],\n",
    "                \"language\": item[\"language\"],\n",
    "                \"explicit\": item[\"explicit\"],\n",
    "                \"type\": item[\"type\"]\n",
    "            })\n",
    "        offset += limite\n",
    "    \n",
    "    df = pd.DataFrame(data)\n",
    "    return df"
   ]
  },
  {
   "cell_type": "code",
   "execution_count": 82,
   "metadata": {},
   "outputs": [],
   "source": [
    "#tabela6()"
   ]
  },
  {
   "cell_type": "code",
   "execution_count": 80,
   "metadata": {},
   "outputs": [],
   "source": [
    "# Função principal\n",
    "def main():\n",
    "    # as 50 primeiras saidas pelo termo datahakers\n",
    "    df5 = tabela5()\n",
    "    # todos os epsodios\n",
    "    df6 = tabela6()\n",
    "    # todos os epsodios que tem boticário\n",
    "    df7 = df6[df6['description'].str.contains('boticário', case=False)]\n",
    "    key_path = \"./GBQ.json\"\n",
    "    credentials = service_account.Credentials.from_service_account_file(key_path)\n",
    "    df5.to_gbq(credentials=credentials, destination_table='BancoDW.Spotify_tbl_5', if_exists='replace')\n",
    "    df6.to_gbq(credentials=credentials, destination_table='BancoDW.Spotify_tbl_6_tds_Ep', if_exists='replace')\n",
    "    df7.to_gbq(credentials=credentials, destination_table='BancoDW.Spotify_tbl_7_Ep_gb', if_exists='replace')"
   ]
  },
  {
   "cell_type": "code",
   "execution_count": 81,
   "metadata": {},
   "outputs": [],
   "source": [
    "# executa \n",
    "main()"
   ]
  }
 ],
 "metadata": {
  "kernelspec": {
   "display_name": "Python 3",
   "language": "python",
   "name": "python3"
  },
  "language_info": {
   "codemirror_mode": {
    "name": "ipython",
    "version": 3
   },
   "file_extension": ".py",
   "mimetype": "text/x-python",
   "name": "python",
   "nbconvert_exporter": "python",
   "pygments_lexer": "ipython3",
   "version": "3.10.10"
  },
  "orig_nbformat": 4
 },
 "nbformat": 4,
 "nbformat_minor": 2
}
