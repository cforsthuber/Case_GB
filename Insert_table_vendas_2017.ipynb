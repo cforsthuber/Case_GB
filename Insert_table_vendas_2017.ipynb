{
 "cells": [
  {
   "cell_type": "code",
   "execution_count": 32,
   "metadata": {},
   "outputs": [],
   "source": [
    "#!pip install mysql.connector\n",
    "import mysql.connector\n",
    "import pandas as pd\n"
   ]
  },
  {
   "cell_type": "code",
   "execution_count": 33,
   "metadata": {},
   "outputs": [],
   "source": [
    "#Conectar banco de dados MySQL\n",
    "mydb = mysql.connector.connect(\n",
    "    host=\"34.151.255.31\",\n",
    "    user=\"root\",\n",
    "    password=\"1234\",\n",
    "    database=\"banco_case_gb\"\n",
    ")"
   ]
  },
  {
   "cell_type": "code",
   "execution_count": 34,
   "metadata": {},
   "outputs": [],
   "source": [
    "# Ler o Excel por meio do Pandas\n",
    "df = pd.read_excel(\"./Arquivos/Base_2017.xlsx\")"
   ]
  },
  {
   "cell_type": "code",
   "execution_count": 35,
   "metadata": {},
   "outputs": [],
   "source": [
    "# Cursor para executar a consulta SQL\n",
    "cursor = mydb.cursor()\n"
   ]
  },
  {
   "cell_type": "code",
   "execution_count": 36,
   "metadata": {},
   "outputs": [],
   "source": [
    "# Definir a consulta SQL para verificar se o registro já existe na tabela\n",
    "sql_check = \"SELECT COUNT(*) FROM banco_case_gb.raw_vendas WHERE ID_MARCA=%s AND ID_LINHA=%s AND DATA_VENDA=%s AND QTD_VENDA=%s\""
   ]
  },
  {
   "cell_type": "code",
   "execution_count": 37,
   "metadata": {},
   "outputs": [],
   "source": [
    "# Definir a consulta SQL para inserir dados na tabela\n",
    "sql_insert = \"INSERT INTO banco_case_gb.raw_vendas (ID_MARCA, MARCA, ID_LINHA, LINHA, DATA_VENDA, QTD_VENDA) VALUES (%s, %s, %s, %s, %s, %s)\""
   ]
  },
  {
   "cell_type": "code",
   "execution_count": 38,
   "metadata": {},
   "outputs": [],
   "source": [
    "# Controle \"DELTA\" para Insert dos dados\n",
    "# Percorrer as linhas do arquivo Excel e executar a consulta SQL com os valores correspondentes\n",
    "for index, row in df.iterrows():\n",
    "    # Tratar a coluna de data\n",
    "    data_venda = pd.to_datetime(row['DATA_VENDA'], format='%d/%m/%Y').strftime('%Y-%m-%d')\n",
    "    \n",
    "    # Verificar se o registro já existe na tabela\n",
    "    val_check = (row['ID_MARCA'], row['ID_LINHA'], data_venda, row['QTD_VENDA'])\n",
    "    cursor.execute(sql_check, val_check)\n",
    "    result = cursor.fetchone()\n",
    "    \n",
    "    # Se o registro não existe, executar a consulta SQL de inserção\n",
    "    if result[0] == 0:\n",
    "        val_insert = (row['ID_MARCA'], row['MARCA'], row['ID_LINHA'], row['LINHA'], data_venda, row['QTD_VENDA'])\n",
    "        cursor.execute(sql_insert, val_insert)"
   ]
  },
  {
   "cell_type": "code",
   "execution_count": 39,
   "metadata": {},
   "outputs": [],
   "source": [
    "# Confirma as alterações no Banco\n",
    "mydb.commit()"
   ]
  },
  {
   "cell_type": "code",
   "execution_count": 40,
   "metadata": {},
   "outputs": [
    {
     "name": "stdout",
     "output_type": "stream",
     "text": [
      "1 linha(s) inserida(s).\n"
     ]
    }
   ],
   "source": [
    "print(cursor.rowcount, \"linha(s) inserida(s).\")"
   ]
  },
  {
   "cell_type": "code",
   "execution_count": 41,
   "metadata": {},
   "outputs": [],
   "source": [
    "# Fechar a conexão com o banco de dados\n",
    "cursor.close()\n",
    "mydb.close()"
   ]
  }
 ],
 "metadata": {
  "kernelspec": {
   "display_name": "Python 3",
   "language": "python",
   "name": "python3"
  },
  "language_info": {
   "codemirror_mode": {
    "name": "ipython",
    "version": 3
   },
   "file_extension": ".py",
   "mimetype": "text/x-python",
   "name": "python",
   "nbconvert_exporter": "python",
   "pygments_lexer": "ipython3",
   "version": "3.10.10"
  },
  "orig_nbformat": 4
 },
 "nbformat": 4,
 "nbformat_minor": 2
}
