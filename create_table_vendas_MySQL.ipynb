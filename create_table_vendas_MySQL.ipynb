{
 "cells": [
  {
   "cell_type": "code",
   "execution_count": null,
   "metadata": {},
   "outputs": [],
   "source": [
    "#!pip install mysql.connector\n",
    "import mysql.connector"
   ]
  },
  {
   "cell_type": "code",
   "execution_count": null,
   "metadata": {},
   "outputs": [],
   "source": [
    "#Conectar banco de dados MySQL\n",
    "mydb = mysql.connector.connect(\n",
    "    host=\"34.151.255.31\",\n",
    "    user=\"root\",\n",
    "    password=\"1234\",\n",
    "    database=\"banco_case_gb\"\n",
    ")"
   ]
  },
  {
   "cell_type": "code",
   "execution_count": null,
   "metadata": {},
   "outputs": [],
   "source": [
    "#Criar cursor\n",
    "cursor = mydb.cursor()"
   ]
  },
  {
   "cell_type": "code",
   "execution_count": null,
   "metadata": {},
   "outputs": [],
   "source": [
    "#Nome da Tabela\n",
    "table_name = 'raw_vendas'"
   ]
  },
  {
   "cell_type": "code",
   "execution_count": null,
   "metadata": {},
   "outputs": [],
   "source": [
    "# Verificar se a tabela já existe\n",
    "cursor.execute(f\"SHOW TABLES LIKE '{table_name}'\")\n",
    "result = cursor.fetchone()"
   ]
  },
  {
   "cell_type": "code",
   "execution_count": null,
   "metadata": {},
   "outputs": [],
   "source": [
    "# Se existir apaga\n",
    "if result:\n",
    "    cursor.execute(f\"DROP TABLE {table_name}\")\n",
    "\n",
    "# Definir a consulta SQL para criar a tabela\n",
    "create_table_sql = \"\"\"\n",
    "CREATE TABLE raw_vendas (\n",
    "  ID_MARCA INT NULL,\n",
    "  MARCA VARCHAR(150) NULL,\n",
    "  ID_LINHA INT NULL,\n",
    "  LINHA VARCHAR(100) NULL,\n",
    "  DATA_VENDA DATE NULL,\n",
    "  QTD_VENDA INT NULL\n",
    ")\n",
    "\"\"\"    "
   ]
  },
  {
   "cell_type": "code",
   "execution_count": null,
   "metadata": {},
   "outputs": [],
   "source": [
    "# Executar a consulta SQL para criar a tabela\n",
    "cursor.execute(create_table_sql)"
   ]
  },
  {
   "cell_type": "code",
   "execution_count": null,
   "metadata": {},
   "outputs": [],
   "source": [
    "# Confirmar as alterações no banco de dados\n",
    "mydb.commit()\n",
    "\n",
    "# Imprimir mensagem de sucesso\n",
    "print(\"Tabela criada com sucesso!\")"
   ]
  }
 ],
 "metadata": {
  "kernelspec": {
   "display_name": "Python 3",
   "language": "python",
   "name": "python3"
  },
  "language_info": {
   "codemirror_mode": {
    "name": "ipython",
    "version": 3
   },
   "file_extension": ".py",
   "mimetype": "text/x-python",
   "name": "python",
   "nbconvert_exporter": "python",
   "pygments_lexer": "ipython3",
   "version": "3.10.10"
  },
  "orig_nbformat": 4
 },
 "nbformat": 4,
 "nbformat_minor": 2
}
