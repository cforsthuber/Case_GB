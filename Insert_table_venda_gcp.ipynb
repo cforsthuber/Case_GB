{
 "cells": [
  {
   "cell_type": "code",
   "execution_count": null,
   "metadata": {},
   "outputs": [],
   "source": [
    "import pandas as pd\n",
    "import mysql.connector\n",
    "from google.cloud import bigquery\n",
    "from google.oauth2 import service_account\n",
    "#import pyarrow.csv as csv"
   ]
  },
  {
   "cell_type": "code",
   "execution_count": null,
   "metadata": {},
   "outputs": [],
   "source": [
    "#Conectar banco de dados MySQL\n",
    "mydb = mysql.connector.connect(\n",
    "    host=\"34.151.255.31\",\n",
    "    user=\"root\",\n",
    "    password=\"1234\",\n",
    "    database=\"banco_case_gb\"\n",
    ")"
   ]
  },
  {
   "cell_type": "code",
   "execution_count": null,
   "metadata": {},
   "outputs": [],
   "source": [
    "#Criar cursor\n",
    "cursor = mydb.cursor()"
   ]
  },
  {
   "cell_type": "code",
   "execution_count": null,
   "metadata": {},
   "outputs": [],
   "source": [
    "# Definir o comando de SELECT no SQL\n",
    "sql_select = \"SELECT * FROM banco_case_gb.raw_vendas\""
   ]
  },
  {
   "cell_type": "code",
   "execution_count": null,
   "metadata": {},
   "outputs": [],
   "source": [
    "# executa comando SQL\n",
    "cursor.execute(sql_select)\n",
    "# Coletar os dados da consulta\n",
    "result = cursor.fetchall()"
   ]
  },
  {
   "cell_type": "code",
   "execution_count": null,
   "metadata": {},
   "outputs": [],
   "source": [
    "# Fechar a conexão com o banco de dados\n",
    "mydb.close()"
   ]
  },
  {
   "cell_type": "code",
   "execution_count": null,
   "metadata": {},
   "outputs": [],
   "source": [
    "# Criar um DataFrame a partir dos resultados da origem\n",
    "df_origem = pd.DataFrame(result, columns=[i[0] for i in cursor.description])"
   ]
  },
  {
   "cell_type": "code",
   "execution_count": null,
   "metadata": {},
   "outputs": [],
   "source": [
    "df_origem"
   ]
  },
  {
   "cell_type": "code",
   "execution_count": null,
   "metadata": {},
   "outputs": [],
   "source": [
    "# Definir o nome da tabela no BigQuery\n",
    "table_name = \"projeto-gb-382302.BancoDW.raw_vendas_dw\""
   ]
  },
  {
   "cell_type": "code",
   "execution_count": null,
   "metadata": {},
   "outputs": [],
   "source": [
    "# Define as credenciais de acesso\n",
    "key_path = \"./GBQ.json\"\n",
    "credentials = service_account.Credentials.from_service_account_file(key_path)"
   ]
  },
  {
   "cell_type": "code",
   "execution_count": null,
   "metadata": {},
   "outputs": [],
   "source": [
    "# Cria o objeto client do BigQery\n",
    "client = bigquery.Client(project=\"projeto-gb-382302\", credentials=credentials)"
   ]
  },
  {
   "cell_type": "code",
   "execution_count": null,
   "metadata": {},
   "outputs": [],
   "source": [
    "# Definir o schema da tabela do BigQuery\n",
    "schema = [\n",
    "    bigquery.SchemaField(\"ID_MARCA\", \"INTEGER\"),\n",
    "    bigquery.SchemaField(\"MARCA\", \"STRING\"),\n",
    "    bigquery.SchemaField(\"ID_LINHA\", \"INTEGER\"),\n",
    "    bigquery.SchemaField(\"LINHA\", \"STRING\"),\n",
    "    bigquery.SchemaField(\"DATA_VENDA\", \"DATE\"),\n",
    "    bigquery.SchemaField(\"QTD_VENDA\", \"INTEGER\"),\n",
    "]"
   ]
  },
  {
   "cell_type": "code",
   "execution_count": null,
   "metadata": {},
   "outputs": [],
   "source": [
    "# Criar a tabela no BigQuery se não existir\n",
    "table_ref = client.dataset(\"BancoDW\").table(\"raw_vendas_dw\")\n",
    "try:\n",
    "    table = client.get_table(table_ref)\n",
    "except:\n",
    "    table = bigquery.Table(table_ref, schema=schema)\n",
    "    table = client.create_table(table)"
   ]
  },
  {
   "cell_type": "code",
   "execution_count": null,
   "metadata": {},
   "outputs": [],
   "source": [
    "# Inserir os dados na tabela do BigQuery\n",
    "job = client.load_table_from_dataframe(df_origem, table_ref)\n",
    "job.result()\n",
    "\n",
    "print(\"Dados inseridos com sucesso na tabela do BigQuery!\")\n"
   ]
  },
  {
   "cell_type": "code",
   "execution_count": null,
   "metadata": {},
   "outputs": [],
   "source": []
  }
 ],
 "metadata": {
  "kernelspec": {
   "display_name": "Python 3",
   "language": "python",
   "name": "python3"
  },
  "language_info": {
   "codemirror_mode": {
    "name": "ipython",
    "version": 3
   },
   "file_extension": ".py",
   "mimetype": "text/x-python",
   "name": "python",
   "nbconvert_exporter": "python",
   "pygments_lexer": "ipython3",
   "version": "3.10.10"
  },
  "orig_nbformat": 4
 },
 "nbformat": 4,
 "nbformat_minor": 2
}
